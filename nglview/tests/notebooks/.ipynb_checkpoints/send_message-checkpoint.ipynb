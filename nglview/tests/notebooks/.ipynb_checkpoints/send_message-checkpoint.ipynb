{
 "cells": [
  {
   "cell_type": "code",
   "execution_count": 2,
   "metadata": {
    "collapsed": false
   },
   "outputs": [],
   "source": [
    "import pytraj as pt\n",
    "import nglview as nv\n",
    "\n",
    "fn = '/home/haichit/pytraj_github/pytraj/tests/data/tz2.ortho.nc'\n",
    "tn = '/home/haichit/pytraj_github/pytraj/tests/data/tz2.ortho.parm7'\n",
    "\n",
    "traj = pt.load([fn,]*10, tn)\n",
    "view = nv.show_pytraj(traj)\n",
    "xyz = traj.xyz\n",
    "view"
   ]
  },
  {
   "cell_type": "code",
   "execution_count": 4,
   "metadata": {
    "collapsed": false
   },
   "outputs": [],
   "source": [
    "#msg = dict(data=xyz.tobytes())\n",
    "msg = dict(data=xyz.tobytes())\n",
    "view.send(msg)"
   ]
  }
 ],
 "metadata": {
  "kernelspec": {
   "display_name": "Python 3",
   "language": "python",
   "name": "python3"
  },
  "language_info": {
   "codemirror_mode": {
    "name": "ipython",
    "version": 3
   },
   "file_extension": ".py",
   "mimetype": "text/x-python",
   "name": "python",
   "nbconvert_exporter": "python",
   "pygments_lexer": "ipython3",
   "version": "3.5.1"
  }
 },
 "nbformat": 4,
 "nbformat_minor": 0
}
