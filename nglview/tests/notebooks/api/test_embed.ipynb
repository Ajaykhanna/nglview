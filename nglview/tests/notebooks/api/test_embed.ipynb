{
 "cells": [
  {
   "cell_type": "code",
   "execution_count": 27,
   "metadata": {},
   "outputs": [
    {
     "data": {
      "application/vnd.jupyter.widget-view+json": {
       "model_id": "9487d10d15214f7cbc0d074f20c4531f",
       "version_major": 2,
       "version_minor": 0
      },
      "text/plain": [
       "NGLWidget(background='black', gui_style='ngl', max_frame=37)"
      ]
     },
     "metadata": {},
     "output_type": "display_data"
    }
   ],
   "source": [
    "import nglview as nv\n",
    "import pytraj as pt\n",
    "\n",
    "traj = pt.datafiles.load_trpcage()\n",
    "view = nv.show_pytraj(traj, default=False)\n",
    "view.center()\n",
    "view.add_licorice(color='residueindex')\n",
    "view.background = 'black' # test stage's parameters\n",
    "view.gui_style = 'ngl'\n",
    "view.camera = 'orthographic'\n",
    "view"
   ]
  },
  {
   "cell_type": "code",
   "execution_count": 28,
   "metadata": {},
   "outputs": [],
   "source": [
    "state = view._get_embed_state()['state']"
   ]
  },
  {
   "cell_type": "code",
   "execution_count": 29,
   "metadata": {},
   "outputs": [],
   "source": [
    "# camera\n",
    "assert state['_camera_orientation'] == view._camera_orientation\n",
    "assert state['_camera_str'] == 'orthographic'\n",
    "\n",
    "# stage params\n",
    "stage_params = state['_ngl_full_stage_parameters']\n",
    "assert stage_params['backgroundColor'] == 'black'\n",
    "\n",
    "# structure\n",
    "msg = state['_ngl_msg_archive']\n",
    "assert msg[0]['args'][0]['data'].startswith('ATOM')\n",
    "\n",
    "# repr\n",
    "assert state['_ngl_repr_dict']['0']['0']['type'] == 'licorice'"
   ]
  }
 ],
 "metadata": {
  "kernelspec": {
   "display_name": "Python 3",
   "language": "python",
   "name": "python3"
  },
  "language_info": {
   "codemirror_mode": {
    "name": "ipython",
    "version": 3
   },
   "file_extension": ".py",
   "mimetype": "text/x-python",
   "name": "python",
   "nbconvert_exporter": "python",
   "pygments_lexer": "ipython3",
   "version": "3.7.3"
  }
 },
 "nbformat": 4,
 "nbformat_minor": 1
}
