{
 "cells": [
  {
   "cell_type": "code",
   "execution_count": 3,
   "metadata": {},
   "outputs": [
    {
     "data": {
      "application/vnd.jupyter.widget-view+json": {
       "model_id": "dc418b9fae0a426ebf5183994d412e78",
       "version_major": 2,
       "version_minor": 0
      },
      "text/plain": [
       "NGLWidget(background='black', gui_style='ngl', max_frame=37)"
      ]
     },
     "metadata": {},
     "output_type": "display_data"
    }
   ],
   "source": [
    "import nglview as nv\n",
    "import pytraj as pt\n",
    "\n",
    "traj = pt.datafiles.load_trpcage()\n",
    "view = nv.show_pytraj(traj, default=False)\n",
    "view.center()\n",
    "view.add_licorice(color='residueindex')\n",
    "view.background = 'black' # test stage's parameters\n",
    "view.gui_style = 'ngl'\n",
    "view.camera = 'orthographic'\n",
    "view"
   ]
  },
  {
   "cell_type": "code",
   "execution_count": 4,
   "metadata": {},
   "outputs": [],
   "source": [
    "state = view._get_embed_state()['state']"
   ]
  },
  {
   "cell_type": "code",
   "execution_count": 5,
   "metadata": {},
   "outputs": [],
   "source": [
    "# camera\n",
    "assert state['_camera_orientation'] == view._camera_orientation\n",
    "assert state['_camera_str'] == 'orthographic'\n",
    "\n",
    "# stage params\n",
    "stage_params = state['_ngl_full_stage_parameters']\n",
    "assert stage_params['backgroundColor'] == 'black'\n",
    "\n",
    "# structure\n",
    "msg = state['_ngl_msg_archive']\n",
    "assert msg[0]['args'][0]['data'].startswith('ATOM')\n",
    "\n",
    "# repr\n",
    "assert state['_ngl_repr_dict']['0']['0']['type'] == 'licorice'"
   ]
  },
  {
   "cell_type": "markdown",
   "metadata": {},
   "source": [
    "# Theme"
   ]
  },
  {
   "cell_type": "code",
   "execution_count": 6,
   "metadata": {},
   "outputs": [],
   "source": [
    "view._gui_theme = 'dark'"
   ]
  },
  {
   "cell_type": "code",
   "execution_count": 7,
   "metadata": {},
   "outputs": [],
   "source": [
    "state = view._get_embed_state()['state']"
   ]
  },
  {
   "cell_type": "code",
   "execution_count": 8,
   "metadata": {
    "scrolled": false
   },
   "outputs": [],
   "source": [
    "msg = state['_ngl_msg_archive']\n",
    "assert msg[-1]['methodName'] == 'updateNGLTheme'\n",
    "assert 'color: #B8B8B8' in msg[-1]['args'][0]"
   ]
  },
  {
   "cell_type": "code",
   "execution_count": 10,
   "metadata": {},
   "outputs": [],
   "source": [
    "assert msg[-1]['fire_embed'] == True"
   ]
  },
  {
   "cell_type": "code",
   "execution_count": 12,
   "metadata": {},
   "outputs": [],
   "source": [
    "nv.write_html(\"index.html\", view)"
   ]
  }
 ],
 "metadata": {
  "kernelspec": {
   "display_name": "Python 3",
   "language": "python",
   "name": "python3"
  },
  "language_info": {
   "codemirror_mode": {
    "name": "ipython",
    "version": 3
   },
   "file_extension": ".py",
   "mimetype": "text/x-python",
   "name": "python",
   "nbconvert_exporter": "python",
   "pygments_lexer": "ipython3",
   "version": "3.7.3"
  }
 },
 "nbformat": 4,
 "nbformat_minor": 1
}
