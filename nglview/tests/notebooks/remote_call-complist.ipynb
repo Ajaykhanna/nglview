{
 "cells": [
  {
   "cell_type": "code",
   "execution_count": 1,
   "metadata": {
    "collapsed": true
   },
   "outputs": [],
   "source": [
    "import pytraj as pt\n",
    "import nglview as nv\n",
    "\n",
    "traj = pt.load(nv.datafiles.TRR, nv.datafiles.PDB)\n",
    "\n",
    "view = nv.show_pytraj(traj)\n",
    "view"
   ]
  },
  {
   "cell_type": "code",
   "execution_count": 2,
   "metadata": {
    "collapsed": false
   },
   "outputs": [],
   "source": [
    "# !ls tz2.pdb"
   ]
  },
  {
   "cell_type": "code",
   "execution_count": 5,
   "metadata": {
    "collapsed": false
   },
   "outputs": [
    {
     "name": "stdout",
     "output_type": "stream",
     "text": [
      "message\n",
      "{'type': 'call_method', 'kwargs': {'defaultRepresentation': True}, 'args': ['./tz2.pdb'], 'methodName': 'loadFile', 'target': 'stage'}\n"
     ]
    }
   ],
   "source": [
    "view._remote_call('loadFile', target='stage', args=['./tz2.pdb'], kwargs={'defaultRepresentation': True})"
   ]
  },
  {
   "cell_type": "code",
   "execution_count": 14,
   "metadata": {
    "collapsed": false
   },
   "outputs": [
    {
     "name": "stdout",
     "output_type": "stream",
     "text": [
      "message\n",
      "{'kwargs': {}, 'args': [True, '1-12'], 'methodName': 'centerView', 'type': 'call_method', 'component_index': 1, 'target': 'component'}\n"
     ]
    }
   ],
   "source": [
    "view._remote_call('centerView', target='component', args=[True, \"1-12\"], kwargs={'component_index': 1})"
   ]
  }
 ],
 "metadata": {
  "kernelspec": {
   "display_name": "Python 3",
   "language": "python",
   "name": "python3"
  },
  "language_info": {
   "codemirror_mode": {
    "name": "ipython",
    "version": 3
   },
   "file_extension": ".py",
   "mimetype": "text/x-python",
   "name": "python",
   "nbconvert_exporter": "python",
   "pygments_lexer": "ipython3",
   "version": "3.5.1"
  }
 },
 "nbformat": 4,
 "nbformat_minor": 0
}
